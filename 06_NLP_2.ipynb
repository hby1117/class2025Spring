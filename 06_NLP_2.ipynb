{
  "cells": [
    {
      "cell_type": "markdown",
      "metadata": {
        "colab_type": "text",
        "id": "view-in-github"
      },
      "source": [
        "<a href=\"https://colab.research.google.com/github/hby1117/class2025Spring/blob/main/06_NLP_2.ipynb\" target=\"_parent\"><img src=\"https://colab.research.google.com/assets/colab-badge.svg\" alt=\"Open In Colab\"/></a>"
      ]
    },
    {
      "cell_type": "markdown",
      "metadata": {
        "id": "WVlHhB9FqaUD"
      },
      "source": [
        "# Natural Language Processing 2"
      ]
    },
    {
      "cell_type": "code",
      "execution_count": null,
      "metadata": {
        "id": "yIkmuVVRouTQ"
      },
      "outputs": [],
      "source": [
        "from nltk.sentiment.vader import SentimentIntensityAnalyzer\n",
        "from nltk.tokenize import RegexpTokenizer\n",
        "import matplotlib.pyplot as plt\n",
        "import nltk\n",
        "import pandas as pd\n",
        "import string"
      ]
    },
    {
      "cell_type": "markdown",
      "metadata": {
        "id": "u5BQN0uxq5wj"
      },
      "source": [
        "## Word Count"
      ]
    },
    {
      "cell_type": "code",
      "execution_count": null,
      "metadata": {
        "id": "H3RNkPqBLCOf"
      },
      "outputs": [],
      "source": [
        "df = pd.read_csv(\"alice.csv\")\n",
        "tokenizer = RegexpTokenizer(\"[\\w]+\")\n",
        "df[\"Tokens\"] = df[\"Text\"].str.lower().apply(tokenizer.tokenize)\n",
        "df[\"WordCount\"] = df[\"Tokens\"].str.len()"
      ]
    },
    {
      "cell_type": "markdown",
      "metadata": {
        "id": "aAB3GW9YwVrX"
      },
      "source": [
        "### Number of words in each book"
      ]
    },
    {
      "cell_type": "code",
      "execution_count": null,
      "metadata": {
        "colab": {
          "base_uri": "https://localhost:8080/",
          "height": 444
        },
        "id": "eI5CthCJdf4e",
        "outputId": "5ca999a2-78ba-4355-a971-ce39d6feb897"
      },
      "outputs": [],
      "source": [
        "total_result = df.groupby(\"Book\")[\"WordCount\"].sum().reset_index()\n",
        "colors = ['#DC8458', '#950702']\n",
        "total_result.plot(x=\"Book\", y=\"WordCount\", kind=\"bar\", color=colors)\n",
        "plt.xticks(ticks=[0, 1], labels=[1, 2])\n",
        "plt.show()"
      ]
    },
    {
      "cell_type": "markdown",
      "metadata": {
        "id": "cNAdRG9Gwjjl"
      },
      "source": [
        "### Average number of words per chapter of each book"
      ]
    },
    {
      "cell_type": "code",
      "execution_count": null,
      "metadata": {
        "colab": {
          "base_uri": "https://localhost:8080/",
          "height": 444
        },
        "id": "FKn6M_S6eFK5",
        "outputId": "3811959a-397f-48c2-fd83-6831dff9f541"
      },
      "outputs": [],
      "source": [
        "mean_result = df.groupby(\"Book\")[\"WordCount\"].mean().reset_index()\n",
        "mean_result.plot(x=\"Book\", y=\"WordCount\", kind=\"bar\", color=colors)\n",
        "plt.xticks(ticks=[0, 1], labels=[1, 2])\n",
        "plt.show()"
      ]
    },
    {
      "cell_type": "markdown",
      "metadata": {
        "id": "464YkuhzwqM-"
      },
      "source": [
        "### Shortest chapter of each book"
      ]
    },
    {
      "cell_type": "code",
      "execution_count": null,
      "metadata": {
        "colab": {
          "base_uri": "https://localhost:8080/",
          "height": 444
        },
        "id": "z86QyyVHqYfM",
        "outputId": "ec42d4e7-c98f-4304-b64b-abde9adb3252"
      },
      "outputs": [],
      "source": [
        "min_result = df.groupby(\"Book\")[\"WordCount\"].min().reset_index()\n",
        "min_result.plot(x=\"Book\", y=\"WordCount\", kind=\"bar\", color=colors)\n",
        "plt.xticks(ticks=[0, 1], labels=[1, 2])\n",
        "plt.show()"
      ]
    },
    {
      "cell_type": "markdown",
      "metadata": {
        "id": "h0-G_wSEwwt8"
      },
      "source": [
        "### Longest chapter of each book"
      ]
    },
    {
      "cell_type": "code",
      "execution_count": null,
      "metadata": {
        "colab": {
          "base_uri": "https://localhost:8080/",
          "height": 444
        },
        "id": "1xQU5y0FssSD",
        "outputId": "9e5332d1-c60b-4cc9-ec12-7d46a5cd4b91"
      },
      "outputs": [],
      "source": [
        "max_result = df.groupby(\"Book\")[\"WordCount\"].max().reset_index()\n",
        "max_result.plot(x=\"Book\", y=\"WordCount\", kind=\"bar\", color=colors)\n",
        "plt.xticks(ticks=[0, 1], labels=[1, 2])\n",
        "plt.show()"
      ]
    },
    {
      "cell_type": "markdown",
      "metadata": {
        "id": "-qIhniCDw0p1"
      },
      "source": [
        "## Sentiment Analysis"
      ]
    },
    {
      "cell_type": "code",
      "execution_count": null,
      "metadata": {
        "id": "LpWd3uT0uAJx"
      },
      "outputs": [],
      "source": [
        "sent_df = pd.read_csv(\"alice_sent.csv\")\n",
        "\n",
        "def remove_punctuations(text):\n",
        "  for punctuation in string.punctuation:\n",
        "    text = text.replace(punctuation, \"\")\n",
        "    return text\n",
        "\n",
        "  sent_df[\"Sentence\"] = sent_df[\"Sentence\"].apply(remove_punctuations)\n",
        "  sent_df[\"Sentence\"] = sent_df[\"Sentence\"].apply(lambda x: x.lower())"
      ]
    },
    {
      "cell_type": "code",
      "execution_count": null,
      "metadata": {
        "colab": {
          "base_uri": "https://localhost:8080/"
        },
        "id": "zy1hB2hbujem",
        "outputId": "b1d31841-a7f1-4176-b6e9-e49bd76f00d9"
      },
      "outputs": [],
      "source": [
        "nltk.download('vader_lexicon')\n",
        "analyzer = nltk.sentiment.vader.SentimentIntensityAnalyzer()\n",
        "sent_df[\"Score\"] = sent_df[\"Sentence\"].apply(analyzer.polarity_scores)"
      ]
    },
    {
      "cell_type": "code",
      "execution_count": null,
      "metadata": {
        "id": "eInc327pup09"
      },
      "outputs": [],
      "source": [
        "sent_df[\"TotalScore\"] = sent_df[\"Score\"].apply(lambda x: x[\"compound\"])\n",
        "sent_df[\"PosScore\"] = sent_df[\"Score\"].apply(lambda x: x[\"pos\"])\n",
        "sent_df[\"NeuScore\"] = sent_df[\"Score\"].apply(lambda x: x[\"neu\"])\n",
        "sent_df[\"NegScore\"] = sent_df[\"Score\"].apply(lambda x: x[\"neg\"])"
      ]
    },
    {
      "cell_type": "code",
      "execution_count": null,
      "metadata": {
        "id": "Oe5n52G1ur-M"
      },
      "outputs": [],
      "source": [
        "sent_df = sent_df.drop([\"Score\"], axis=1)\n",
        "sent_df[\"PosFlag\"] = sent_df[\"TotalScore\"].apply(lambda x: x >= 0.05)\n",
        "sent_df[\"NeuFlag\"] = sent_df[\"TotalScore\"].apply(lambda x: x > -0.05 and x < 0.05)\n",
        "sent_df[\"NegFlag\"] = sent_df[\"TotalScore\"].apply(lambda x: x <= -0.05)"
      ]
    },
    {
      "cell_type": "code",
      "execution_count": null,
      "metadata": {
        "colab": {
          "base_uri": "https://localhost:8080/",
          "height": 178
        },
        "id": "IMf2B9MUuucc",
        "outputId": "d1e114ff-dcfb-4413-f526-c93c396642eb"
      },
      "outputs": [],
      "source": [
        "sent_df.groupby(\"Book\")[\"TotalScore\"].mean()"
      ]
    },
    {
      "cell_type": "code",
      "execution_count": null,
      "metadata": {
        "colab": {
          "base_uri": "https://localhost:8080/"
        },
        "id": "Tpifc9Vvuwu8",
        "outputId": "0b70d965-edad-4111-e652-83a76063879d"
      },
      "outputs": [],
      "source": [
        "num_pos = sent_df['PosFlag'].sum()\n",
        "num_neg = sent_df['NegFlag'].sum()\n",
        "num_neu = sent_df['NeuFlag'].sum()\n",
        "print(f\"There are {num_pos} positive sentences.\")\n",
        "print(f\"There are {num_neg} negative sentences.\")\n",
        "print(f\"There are {num_neu} neutral sentences.\")"
      ]
    },
    {
      "cell_type": "code",
      "execution_count": null,
      "metadata": {
        "colab": {
          "base_uri": "https://localhost:8080/",
          "height": 449
        },
        "id": "HSUzKIU1u0RU",
        "outputId": "89457eb4-6fcc-4edf-8f64-26ad5fa62054"
      },
      "outputs": [],
      "source": [
        "sent_df.groupby([\"Chapter\", \"Book\"])[\"TotalScore\"].mean().unstack().plot(subplots=True)\n",
        "plt.show()"
      ]
    }
  ],
  "metadata": {
    "colab": {
      "authorship_tag": "ABX9TyM3ymO5AqPCD/2ic78GMQ+I",
      "include_colab_link": true,
      "provenance": []
    },
    "kernelspec": {
      "display_name": "Python 3",
      "name": "python3"
    },
    "language_info": {
      "name": "python"
    }
  },
  "nbformat": 4,
  "nbformat_minor": 0
}
