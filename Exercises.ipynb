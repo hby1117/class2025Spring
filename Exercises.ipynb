{
  "cells": [
    {
      "cell_type": "markdown",
      "metadata": {
        "colab_type": "text",
        "id": "view-in-github"
      },
      "source": [
        "<a href=\"https://colab.research.google.com/github/hby1117/class2025Spring/blob/main/Exercises.ipynb\" target=\"_parent\"><img src=\"https://colab.research.google.com/assets/colab-badge.svg\" alt=\"Open In Colab\"/></a>"
      ]
    },
    {
      "cell_type": "markdown",
      "metadata": {
        "id": "R3SrZu5wKQwO"
      },
      "source": [
        "# Exercises"
      ]
    },
    {
      "cell_type": "markdown",
      "metadata": {},
      "source": [
        "01.\n",
        "\n",
        "Three students, A, B, and C, scored 85, 92, and 76 on their math exam, respectively.\n",
        "<br>\n",
        "What is the average score, and which students scored above it?"
      ]
    },
    {
      "cell_type": "code",
      "execution_count": null,
      "metadata": {},
      "outputs": [],
      "source": []
    },
    {
      "cell_type": "code",
      "execution_count": null,
      "metadata": {},
      "outputs": [],
      "source": [
        "#@title Answer\n",
        "\n",
        "score_a = 85\n",
        "score_b = 92\n",
        "score_c = 76\n",
        "\n",
        "average_score = (score_a + score_b + score_c) / 3\n",
        "\n",
        "print(f\"A's score is over average: {score_a > average_score}\")\n",
        "print(f\"B's score is over average: {score_b > average_score}\")\n",
        "print(f\"C's score is over average: {score_c > average_score}\")"
      ]
    },
    {
      "cell_type": "markdown",
      "metadata": {},
      "source": [
        "02.\n",
        "\n",
        "You have a phone number as a string and want to display it in a specific format (XXX-XXX-XXXX).\n",
        "<br>\n",
        "Use string slicing and concatenation to format the phone number.\n",
        "<br>\n",
        "<br>\n",
        "Phone Number: 1234567890"
      ]
    },
    {
      "cell_type": "code",
      "execution_count": null,
      "metadata": {},
      "outputs": [],
      "source": []
    },
    {
      "cell_type": "code",
      "execution_count": null,
      "metadata": {},
      "outputs": [],
      "source": [
        "#@title Answer\n",
        "\n",
        "number = \"1234567890\"\n",
        "number_formatted = number[:3] + \"-\" + number[3:6] + \"-\" + number[6:]\n",
        "\n",
        "print(number_formatted)"
      ]
    },
    {
      "cell_type": "markdown",
      "metadata": {},
      "source": [
        "03.\n",
        "\n",
        "You want to remove the last played song from your playlist A and move it to another playlist B.\n",
        "<br>\n",
        "<br>\n",
        "playlist A: Song 1, Song 2, Song 3\n",
        "<br>\n",
        "playlist B: Song 4"
      ]
    },
    {
      "cell_type": "code",
      "execution_count": null,
      "metadata": {},
      "outputs": [],
      "source": []
    },
    {
      "cell_type": "code",
      "execution_count": null,
      "metadata": {},
      "outputs": [],
      "source": [
        "#@title Answer\n",
        "\n",
        "list_a = [\"Song 1\", \"Song 2\", \"Song 3\"]\n",
        "list_b = [\"Song 4\"]\n",
        "\n",
        "song = list_a.pop()\n",
        "list_b.append(song)\n",
        "\n",
        "print(f\"playlist A: {list_a}\")\n",
        "print(f\"playlist B: {list_b}\")"
      ]
    },
    {
      "cell_type": "markdown",
      "metadata": {},
      "source": [
        "04.\n",
        "\n",
        "Create a phonebook as a dictionary and access Emily's phone number.\n",
        "<br>\n",
        "<br>\n",
        "Phonebook:\n",
        "<br>\n",
        "\n",
        "|name|phone number|\n",
        "|-|-|\n",
        "|Emily|123-456-7890|\n",
        "|Bob|987-654-3210|"
      ]
    },
    {
      "cell_type": "code",
      "execution_count": null,
      "metadata": {},
      "outputs": [],
      "source": []
    },
    {
      "cell_type": "code",
      "execution_count": null,
      "metadata": {},
      "outputs": [],
      "source": [
        "#@title Answer\n",
        "\n",
        "phonebook = { \"Emily\": \"123-456-7890\", \"Bob\": \"987-654-3210\" }\n",
        "print(phonebook[\"Emily\"])"
      ]
    },
    {
      "cell_type": "markdown",
      "metadata": {},
      "source": [
        "05.\n",
        "\n",
        "Jane is 16 years old and is 153cm tall.\n",
        "<br>\n",
        "Check if Jane can ride a roller coaster.\n",
        "<br>\n",
        "<br>\n",
        "\n",
        "To ride a roller coaster,\n",
        "<br>\n",
        "one should meet all these conditions:\n",
        "1. over 150cm\n",
        "2. over 15 years old"
      ]
    },
    {
      "cell_type": "code",
      "execution_count": null,
      "metadata": {},
      "outputs": [],
      "source": []
    },
    {
      "cell_type": "code",
      "execution_count": null,
      "metadata": {},
      "outputs": [],
      "source": [
        "#@title Answer\n",
        "\n",
        "age = 16\n",
        "height = 153\n",
        "\n",
        "if age > 15 and height > 150:\n",
        "  print(\"Jane can ride a roller coaster.\")\n",
        "else:\n",
        "  print(\"Jane is not allowed to ride a roller coaster.\")"
      ]
    },
    {
      "cell_type": "markdown",
      "metadata": {},
      "source": [
        "06.\n",
        "\n",
        "Assign A for scores >= 90, B for scores >= 80, C for scores >= 70, and D for the rest."
      ]
    },
    {
      "cell_type": "code",
      "execution_count": null,
      "metadata": {},
      "outputs": [],
      "source": [
        "scores = [85, 92, 78, 90, 69]\n",
        "grades = []\n",
        "\n",
        "# Start from here!"
      ]
    },
    {
      "cell_type": "code",
      "execution_count": null,
      "metadata": {},
      "outputs": [],
      "source": [
        "#@title Answer\n",
        "\n",
        "scores = [85, 92, 78, 90, 69]\n",
        "grades = []\n",
        "\n",
        "for score in scores:\n",
        "  if (score >= 90):\n",
        "    grades.append(\"A\")\n",
        "  elif (score >= 80):\n",
        "    grades.append(\"B\")\n",
        "  elif (score >= 70):\n",
        "    grades.append(\"C\")\n",
        "  else:\n",
        "    grades.append(\"D\")\n",
        "\n",
        "print(\"grades:\", grades)"
      ]
    },
    {
      "cell_type": "markdown",
      "metadata": {},
      "source": [
        "07.\n",
        "\n",
        "Simulate throwing the dice until number 6 comes out.\n",
        "<br>\n",
        "Use `while` loop and `random.randint()` function."
      ]
    },
    {
      "cell_type": "code",
      "execution_count": null,
      "metadata": {},
      "outputs": [],
      "source": [
        "import random\n",
        "\n",
        "# Start from here!"
      ]
    },
    {
      "cell_type": "code",
      "execution_count": null,
      "metadata": {},
      "outputs": [],
      "source": [
        "#@title Answer\n",
        "\n",
        "import random\n",
        "\n",
        "dice = 1\n",
        "\n",
        "while dice != 6:\n",
        "  dice = random.randint(1, 6)\n",
        "  print(\"number:\", dice)"
      ]
    },
    {
      "cell_type": "markdown",
      "metadata": {},
      "source": [
        "08.\n",
        "\n",
        "Define a function that takes the numerical score and returns the corresponding letter grade.\n",
        "<br>\n",
        "<br>\n",
        "Grade thresholds:\n",
        "<br>\n",
        "A: 90 ~ 100\n",
        "<br>\n",
        "B: 80 ~ 89\n",
        "<br>\n",
        "C: 70 ~ 79\n",
        "<br>\n",
        "D: 60 ~ 69\n",
        "<br>\n",
        "F: 0 ~ 60"
      ]
    },
    {
      "cell_type": "code",
      "execution_count": null,
      "metadata": {},
      "outputs": [],
      "source": []
    },
    {
      "cell_type": "code",
      "execution_count": null,
      "metadata": {},
      "outputs": [],
      "source": [
        "#@title Answer\n",
        "\n",
        "def convert_grade(score):\n",
        "  if score >= 90:\n",
        "    return \"A\"\n",
        "  elif score >= 80:\n",
        "    return \"B\"\n",
        "  elif score >= 70:\n",
        "    return \"C\"\n",
        "  elif score >= 60:\n",
        "    return \"D\"\n",
        "  else:\n",
        "    return \"F\""
      ]
    },
    {
      "cell_type": "markdown",
      "metadata": {},
      "source": [
        "09.\n",
        "\n",
        "Convert a list of temperatures measured in Fahrenheit to Celsius using list comprehension, and store the results in a new list.\n",
        "<br>\n",
        "<br>\n",
        "Formula: $C = \\frac{5}{9}(F - 32)$"
      ]
    },
    {
      "cell_type": "code",
      "execution_count": null,
      "metadata": {},
      "outputs": [],
      "source": [
        "f_temperatures = [50, -4, 41, 104]\n",
        "\n",
        "# Start from here!\n",
        "# Create c_temperatures list"
      ]
    },
    {
      "cell_type": "code",
      "execution_count": null,
      "metadata": {},
      "outputs": [],
      "source": [
        "#@title Answer\n",
        "\n",
        "f_temperatures = [50, -4, 41, 104]\n",
        "\n",
        "c_temperatures = [5 / 9 * (f - 32) for f in f_temperatures]\n",
        "print(f\"Celsius: {c_temperatures}\")"
      ]
    },
    {
      "cell_type": "markdown",
      "metadata": {},
      "source": [
        "10.\n",
        "\n",
        "Write each element from `groceries` to a file named `grocery.txt`.\n",
        "<br>\n",
        "Each element should occupy its own line."
      ]
    },
    {
      "cell_type": "code",
      "execution_count": null,
      "metadata": {},
      "outputs": [],
      "source": [
        "groceries = [\"Apples\", \"Breads\", \"Milk\"]\n",
        "\n",
        "# Start from here!"
      ]
    },
    {
      "cell_type": "code",
      "execution_count": null,
      "metadata": {},
      "outputs": [],
      "source": [
        "#@title Answer\n",
        "\n",
        "groceries = [\"Apples\", \"Breads\", \"Milk\"]\n",
        "\n",
        "with open(\"./grocery.txt\", \"w\") as f:\n",
        "  for product in groceries:\n",
        "    f.write(f\"{product}\\n\")"
      ]
    }
  ],
  "metadata": {
    "colab": {
      "authorship_tag": "ABX9TyPTG3rkVupxWsIKDLN9ZFqz",
      "include_colab_link": true,
      "provenance": []
    },
    "kernelspec": {
      "display_name": "Python 3",
      "name": "python3"
    },
    "language_info": {
      "codemirror_mode": {
        "name": "ipython",
        "version": 3
      },
      "file_extension": ".py",
      "mimetype": "text/x-python",
      "name": "python",
      "nbconvert_exporter": "python",
      "pygments_lexer": "ipython3",
      "version": "3.10.16"
    }
  },
  "nbformat": 4,
  "nbformat_minor": 0
}
