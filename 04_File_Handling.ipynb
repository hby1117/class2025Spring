{
  "cells": [
    {
      "cell_type": "markdown",
      "metadata": {
        "colab_type": "text",
        "id": "view-in-github"
      },
      "source": [
        "<a href=\"https://colab.research.google.com/github/hby1117/class2025Spring/blob/main/04_File_Handling.ipynb\" target=\"_parent\"><img src=\"https://colab.research.google.com/assets/colab-badge.svg\" alt=\"Open In Colab\"/></a>"
      ]
    },
    {
      "cell_type": "markdown",
      "metadata": {
        "id": "Jt_b0qfrCKrV"
      },
      "source": [
        "# File Handling"
      ]
    },
    {
      "cell_type": "markdown",
      "metadata": {
        "id": "nb_UZmyuFMYP"
      },
      "source": [
        "## String Formatting\n",
        "\n",
        "* format()\n",
        "\n",
        "```python\n",
        "language = \"python\"\n",
        "sentence = \"Hello, welcome to {} programming!\".format(name)\n",
        "print(sentence)\n",
        "```\n",
        "\n",
        "* f-string\n",
        "\n",
        "```python\n",
        "language = \"python\"\n",
        "sentence = f\"Hello, welcome to {language} programming!\"\n",
        "print(sentence)\n",
        "```"
      ]
    },
    {
      "cell_type": "markdown",
      "metadata": {},
      "source": [
        "## File Handling\n",
        "\n",
        "* open()\n",
        "\n",
        "\t- `r`: read mode\n",
        "\t- `w`: write mode\n",
        "\t- `a`: append mode"
      ]
    },
    {
      "cell_type": "markdown",
      "metadata": {
        "id": "m26WKcyzCVPR"
      },
      "source": [
        "## Reading From Files\n",
        "\n",
        "* read()\n",
        "\n",
        "```python\n",
        "with open(\"sample.txt\", \"r\") as file:\n",
        "  content = file.read()\n",
        "```\n",
        "\n",
        "* readline()\n",
        "\n",
        "```python\n",
        "with open(\"sample.txt\", \"r\") as file:\n",
        "  line = file.readline()\n",
        "```\n",
        "\n",
        "* readlines()\n",
        "\n",
        "```python\n",
        "with open(\"sample.txt\", \"r\") as file:\n",
        "  lines = file.readlines()\n",
        "  \n",
        "  for line in lines:\n",
        "    print(line)\n",
        "```"
      ]
    },
    {
      "cell_type": "markdown",
      "metadata": {
        "id": "8COXeSv2Dzmm"
      },
      "source": [
        "## Writing To Files\n",
        "\n",
        "* write()\n",
        "\n",
        "```python\n",
        "with open(\"sample.txt\", \"w\") as file:\n",
        "  file.write(\"Hello world!\")\n",
        "```\n",
        "\n",
        "* append\n",
        "\n",
        "```python\n",
        "with open(\"sample.txt\", \"a\") as file:\n",
        "  file.write(\"Hello python!\")\n",
        "```\n",
        "\n",
        "* newline\n",
        "\n",
        "```python\n",
        "with open(\"sample.txt\", \"w\") as file:\n",
        "  file.write(\"Hello world!\\n\")\n",
        "  file.write(\"Hello python!\")\n",
        "```"
      ]
    },
    {
      "cell_type": "markdown",
      "metadata": {},
      "source": [
        "## Useful String Functions\n",
        "\n",
        "* join()\n",
        "\n",
        "```python\n",
        "words = [\"I'm\", \"learning\", \"python.\"]\n",
        "sentence = \" \".join(words)\n",
        "```\n",
        "\n",
        "* strip()\n",
        "\n",
        "```python\n",
        "sentence = \"   Hello!\\n\"\n",
        "clean_sentence = sentence.strip()\n",
        "```"
      ]
    }
  ],
  "metadata": {
    "colab": {
      "authorship_tag": "ABX9TyOLn8SUlb+Q6Xq07o+RbCn7",
      "include_colab_link": true,
      "provenance": []
    },
    "kernelspec": {
      "display_name": "Python 3",
      "name": "python3"
    },
    "language_info": {
      "name": "python"
    }
  },
  "nbformat": 4,
  "nbformat_minor": 0
}
