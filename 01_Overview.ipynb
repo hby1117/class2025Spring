{
  "cells": [
    {
      "cell_type": "markdown",
      "metadata": {
        "colab_type": "text",
        "id": "view-in-github"
      },
      "source": [
        "<a href=\"https://colab.research.google.com/github/hby1117/class2025Spring/blob/main/01_Overview.ipynb\" target=\"_parent\"><img src=\"https://colab.research.google.com/assets/colab-badge.svg\" alt=\"Open In Colab\"/></a>"
      ]
    },
    {
      "cell_type": "markdown",
      "metadata": {
        "id": "kWvBPkmEs19h"
      },
      "source": [
        "# Class Overview"
      ]
    },
    {
      "cell_type": "markdown",
      "metadata": {},
      "source": [
        "## History of the English Language\n",
        "\n",
        "### 1. Old English (449 ~ 1100)\n",
        "\n",
        "  - Originated from the Anglo-Saxon settlers: the Angles, Saxons, and Jutes\n",
        "  - Heavily influenced by Germanic tribes\n",
        "  - Characterized by complex grammar and vocabulary\n",
        "\n",
        "### 2. Middle English (1100 ~ 1500)\n",
        "\n",
        "  - Began after the Norman Conquest, which introduced French as the language of the ruling classes\n",
        "  - Saw a significant blend of Norman (French) influence with the existing Anglo-Saxon (Old English)\n",
        "\n",
        "### 3. Early Modern English (1500 ~ 1800)\n",
        "\n",
        "  - Marked by the influence of the Renaissance, which brought an influx of Latin and Greek words into the English vocabulary\n",
        "  - The period of William Shakespeare and the King James Bible\n",
        "  - The Great Vowel Shift, a major change in pronunciation, occurred during this period\n",
        "  - Witnessed the beginning of English colonization, which would later spread the language globally\n",
        "\n",
        "### 4. Modern English (1800 ~)\n",
        "\n",
        "  - Modern English has simplified grammar but a significantly expanded vocabulary due to influences from many languages\n",
        "  - The advent of technology and the internet has led to the rapid evolution of English in the digital age"
      ]
    },
    {
      "cell_type": "markdown",
      "metadata": {},
      "source": [
        "## Python\n",
        "\n",
        "Python is a programming language known for its readability and versatility.\n",
        "\n",
        "### Usage\n",
        "\n",
        "- Web development\n",
        "- Data Analysis\n",
        "- Artificial Intelligence\n",
        "- Game development\n",
        "- Animation and graphic design\n",
        "- and more...\n",
        "\n",
        "### Features\n",
        "\n",
        "- **Readability**: Python has a clean syntax that makes it easy to read and write code.\n",
        "- **Versatility**: Python is used in various fields.\n",
        "- **Strong community support**: A large and active community contributes to a rich set of libraries and frameworks.\n",
        "- **Cross-platform compatibility**: Python is available and can run on various operating systems like Windows, Linux, and macOS.\n",
        "\n",
        "### Google Colab\n",
        "\n",
        "- Google colab is a free, easy-to-use online tool where you can write and run Python code without installing anything on your computer."
      ]
    }
  ],
  "metadata": {
    "colab": {
      "authorship_tag": "ABX9TyNErFl8rwIrHuDrX4bepJiD",
      "include_colab_link": true,
      "provenance": []
    },
    "kernelspec": {
      "display_name": "Python 3",
      "name": "python3"
    },
    "language_info": {
      "name": "python"
    }
  },
  "nbformat": 4,
  "nbformat_minor": 0
}
