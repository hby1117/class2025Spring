{
  "cells": [
    {
      "cell_type": "markdown",
      "metadata": {
        "colab_type": "text",
        "id": "view-in-github"
      },
      "source": [
        "<a href=\"https://colab.research.google.com/github/hby1117/class2025Spring/blob/main/03_Python_Basics_1.ipynb\" target=\"_parent\"><img src=\"https://colab.research.google.com/assets/colab-badge.svg\" alt=\"Open In Colab\"/></a>"
      ]
    },
    {
      "cell_type": "markdown",
      "metadata": {
        "id": "dlXXM-qsi0Cl"
      },
      "source": [
        "# Python Basics (1)"
      ]
    },
    {
      "cell_type": "markdown",
      "metadata": {
        "id": "PZjRFic5i963"
      },
      "source": [
        "## Function & Data\n",
        "\n",
        "```\n",
        "print(\"Hello world!\")\n",
        "```"
      ]
    },
    {
      "cell_type": "markdown",
      "metadata": {
        "id": "0qpSJt78j2K2"
      },
      "source": [
        "## Variable\n",
        "\n",
        "```\n",
        "a = \"Hello world!\"\n",
        "print(a)\n",
        "```"
      ]
    },
    {
      "cell_type": "markdown",
      "metadata": {
        "id": "xL-f7r2RkBlU"
      },
      "source": [
        "## Data Type: int, float\n",
        "\n",
        "* Creating Numbers\n",
        "```\n",
        "a = 1\n",
        "b = 3.14\n",
        "```\n",
        "\n",
        "* Arithmetic Operations\n",
        "```\n",
        "10 + 2\n",
        "10 - 2\n",
        "10 * 2\n",
        "10 / 2\n",
        "10 ** 2\n",
        "```"
      ]
    },
    {
      "cell_type": "markdown",
      "metadata": {
        "id": "OYoVTcRplPOi"
      },
      "source": [
        "## Data Type: list\n",
        "\n",
        "* Creating Lists\n",
        "```\n",
        "a = [1, 2, 3, 4, 5]\n",
        "```\n",
        "\n",
        "* Accessing Items\n",
        "```\n",
        "b = a[0]\n",
        "c = a[1:3]\n",
        "```\n",
        "\n",
        "* Modifying Items\n",
        "```\n",
        "a[1] = 20\n",
        "```\n",
        "\n",
        "* Appending & Removing Items\n",
        "```\n",
        "a.append(6)\n",
        "a.pop(2)\n",
        "```\n",
        "\n",
        "* Combining Lists\n",
        "```\n",
        "a = [1, 2, 3]\n",
        "b = [4, 5]\n",
        "c = a + b\n",
        "```"
      ]
    },
    {
      "cell_type": "markdown",
      "metadata": {
        "id": "Y-0repiDr0cH"
      },
      "source": [
        "## Data Type: string\n",
        "\n",
        "* Creating Strings\n",
        "```\n",
        "a = \"Hello world!\"\n",
        "```\n",
        "\n",
        "* Accessing Characters\n",
        "```\n",
        "b = a[0]\n",
        "c = a[1:3]\n",
        "```\n",
        "\n",
        "* Combining Strings\n",
        "```\n",
        "a = \"Hello \"\n",
        "b = \"world!\"\n",
        "c = a + b\n",
        "```"
      ]
    },
    {
      "cell_type": "markdown",
      "metadata": {
        "id": "VWcO75jfllNC"
      },
      "source": [
        "## Data Type: dictionary\n",
        "\n",
        "* Creating Dictionaries\n",
        "```\n",
        "a = { \"name\": \"Danielle\", \"age\" : 25, \"city\": \"Newcastle\" }\n",
        "```\n",
        "\n",
        "* Accessing Values\n",
        "```\n",
        "b = a[\"name\"]\n",
        "```\n",
        "\n",
        "* Modifying Values\n",
        "```\n",
        "a[\"age\"] = 19\n",
        "```\n",
        "\n",
        "* Adding & Removing Key-Value Pairs\n",
        "```\n",
        "a[\"country\"] = \"Australia\"\n",
        "del a[\"city\"]\n",
        "```"
      ]
    }
  ],
  "metadata": {
    "colab": {
      "authorship_tag": "ABX9TyNUWF5yco/X7dx3Dd9+JpEI",
      "include_colab_link": true,
      "provenance": []
    },
    "kernelspec": {
      "display_name": "Python 3",
      "name": "python3"
    },
    "language_info": {
      "name": "python"
    }
  },
  "nbformat": 4,
  "nbformat_minor": 0
}
